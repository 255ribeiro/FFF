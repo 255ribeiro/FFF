{
 "cells": [
  {
   "cell_type": "code",
   "execution_count": 1,
   "metadata": {
    "slideshow": {
     "slide_type": "slide"
    }
   },
   "outputs": [],
   "source": [
    "#import tensorflow as tf\n",
    "import numpy as np\n",
    "#import pandas as pd\n",
    "#import matplotlib.pyplot as plt\n",
    "import numba as nb\n",
    "import sys\n",
    "import openseespy.opensees as ospy"
   ]
  },
  {
   "cell_type": "code",
   "execution_count": 2,
   "metadata": {
    "slideshow": {
     "slide_type": "fragment"
    }
   },
   "outputs": [
    {
     "data": {
      "text/plain": [
       "'3.0.3'"
      ]
     },
     "execution_count": 2,
     "metadata": {},
     "output_type": "execute_result"
    }
   ],
   "source": [
    "ospy.version()"
   ]
  },
  {
   "cell_type": "code",
   "execution_count": 3,
   "metadata": {
    "slideshow": {
     "slide_type": "slide"
    }
   },
   "outputs": [],
   "source": [
    "@nb.vectorize([\"float64(int64,int64,int64,float64)\"], target='parallel')\n",
    "def coordX(M, vx, vy, dx):\n",
    "    if M <  ( (vx+1) * (vy+1) ):\n",
    "        return  (M % (vx+1) ) * (dx)\n",
    "    else:\n",
    "        return  ( ( M - (vx+1) * (vy+1) ) % (vx*2 +1) ) * (dx/2) "
   ]
  },
  {
   "cell_type": "code",
   "execution_count": 4,
   "metadata": {
    "slideshow": {
     "slide_type": "fragment"
    }
   },
   "outputs": [],
   "source": [
    "@nb.vectorize([\"float64(int64,int64,int64,float64)\"], target='parallel')\n",
    "def coordY(M, vx, vy, dy):\n",
    "    if M <  ( (vx+1)* (vy+1) ):\n",
    "        return  ((M % ( (vx+1) * (vy+1) )// (vx+1) ) ) * (dy)\n",
    "    else:\n",
    "        return  ( ((M - (vx+1) * (vy+1) ) % ( (vx*2 +1) * (vy*2 +1) ))// (vx*2 +1) ) * (dy/2)"
   ]
  },
  {
   "cell_type": "code",
   "execution_count": 5,
   "metadata": {
    "slideshow": {
     "slide_type": "fragment"
    }
   },
   "outputs": [],
   "source": [
    "@nb.vectorize([\"float64(int64,int64,int64,float64)\"], target='parallel')\n",
    "def coordZ(M, vx, vy, dz):\n",
    "    if M < ( (vx+1)* (vy+1) ):\n",
    "        return  0.0\n",
    "    else:\n",
    "        return  (((M - ( (vx+1)* (vy+1) ) ) // ( (vx*2 +1)*(vy*2 +1))) + 1) * (dz)"
   ]
  },
  {
   "cell_type": "code",
   "execution_count": 162,
   "metadata": {
    "slideshow": {
     "slide_type": "slide"
    }
   },
   "outputs": [],
   "source": [
    "@nb.jit([\"void(int32,float64,float64,float64)\"], parallel = True)\n",
    "def ospyNode(M, cx, cy, cz):\n",
    "    for i in nb.prange(M.size):\n",
    "        ospy.node(int(M[i]),cx[i],cy[i],cz[i])\n",
    "        if cz[i] == 0.0:\n",
    "            ospy.fix(int(M[i]), 1, 1, 1, 1, 1, 1)"
   ]
  },
  {
   "cell_type": "code",
   "execution_count": 163,
   "metadata": {},
   "outputs": [],
   "source": [
    "@nb.jit([\"void()\"])\n",
    "def resetModel():\n",
    "    # - Modelo Openseespy\n",
    "    ospy.wipe()\n",
    "    # init model\n",
    "    # degrees of freedom by node\n",
    "    ndf=6\n",
    "    ospy.model('basic', '-ndm', 3, '-ndf', ndf)\n",
    "    # transformações geometricas\n",
    "    ospy.geomTransf('Linear', 1, 0.0, 0.0, 1.0, '-jntOffset', 0.0, 0.0, 0.0, 0.0, 0.0, 0.0)\n",
    "    ospy.geomTransf('Linear', 2, 1.0, 0.0, 0.0, '-jntOffset', 0.0, 0.0, 0.0, 0.0, 0.0, 0.0) \n",
    "    "
   ]
  },
  {
   "cell_type": "code",
   "execution_count": 168,
   "metadata": {
    "slideshow": {
     "slide_type": "slide"
    }
   },
   "outputs": [],
   "source": [
    "@nb.jit([\"void(int64,float64,int64,float64,int64,float64)\"])\n",
    "def estruct(vx, dx, vy, dy, vz, dz):\n",
    "    # numero total de pontos\n",
    "    Npts = (vx*2 +1) * (vy*2 +1) * (vz) + ( (vx+1) * (vy+1) )\n",
    "    # Matriz dos indices\n",
    "    mat = np.arange(0,Npts, 1, dtype= np.int64 )\n",
    "    # corrdenadas dos pontos\n",
    "    cX = coordX(mat, vx, vy, dx)\n",
    "    cY = coordY(mat, vx, vy, dy)\n",
    "    cZ = coordZ(mat, vx, vy, dz)\n",
    "    # matriz dos andares superiores\n",
    "    matA = mat[(vX+1)*(vY+1)::].reshape(vZ, vY*2 +1, vX*2 +1)\n",
    "    # matriz dos indices iniciais das vigas em x\n",
    "    matXI = matA[::,::2,:-1:]\n",
    "    # matriz dos indides finais das vigas em x\n",
    "    matXF = matA[::,::2,1::]\n",
    "    # matriz dos indices inicias das vigas em Y\n",
    "    matYI = matA[::,:-1:,::2]\n",
    "    # matriz dos indices finais das vigas em Y\n",
    "    matYF = matA[::,1::,::2]\n",
    "    # matriz pontos da fundação\n",
    "    matB = mat[: (vx+1) * (vy+1)]\n",
    "    # matriz final dos pilares\n",
    "    matPF = matA[::,::2,::2]\n",
    "    # matriz inicial dos pilares\n",
    "    matPI = np.append(matB,matPF[:-1:,::,::]).reshape(vZ,(vY+1),(vX+1))\n",
    "    # Matrizes de superficie \n",
    "    matBL = matA[::, :-1:, :-1:]\n",
    "    #print(\"Inferior esquerdo\\n\",matBL)\n",
    "    matBR = matA[::, :-1:, 1::]\n",
    "    #print(\"Inferior direito\\n\",matBR)\n",
    "    matTL= matA[::, 1::, :-1:]\n",
    "    #print(\"Superior esquerdo\\n\",matTL)\n",
    "    matTR = matA[::, 1::, 1::]\n",
    "    #print(\"Superior direito\\n\",matTR)\n",
    "    \n",
    "    # reset model\n",
    "    resetModel()\n",
    "    # nodes\n",
    "    ospyNode(mat, cX, cY, cZ)\n",
    "    \n",
    "    return  matPI, matPF , matXI,  matXF,  matYI,  matYF, matBL, matBR, matTL, matTR"
   ]
  },
  {
   "cell_type": "code",
   "execution_count": 169,
   "metadata": {
    "slideshow": {
     "slide_type": "slide"
    }
   },
   "outputs": [],
   "source": [
    "# entradas\n",
    "# numero de vaos em x\n",
    "vX = 2\n",
    "# distancia dos vaos em x\n",
    "dX = 5.25\n",
    "# número de vãos em y\n",
    "vY = 3\n",
    "# distancia dos vaos em y\n",
    "dY = 7.25\n",
    "# numero pavimentos\n",
    "vZ = 2\n",
    " # distancia piso a piso\n",
    "dZ = 3.25"
   ]
  },
  {
   "cell_type": "code",
   "execution_count": 170,
   "metadata": {
    "slideshow": {
     "slide_type": "slide"
    }
   },
   "outputs": [],
   "source": [
    "\n",
    "matPI, matPF , matXI,  matXF,  matYI,  matYF, matBL, matBR, matTL, matTR = estruct(vX, dX, vY, dY, vZ, dZ)"
   ]
  },
  {
   "cell_type": "code",
   "execution_count": 167,
   "metadata": {
    "scrolled": false,
    "slideshow": {
     "slide_type": "slide"
    }
   },
   "outputs": [
    {
     "name": "stdout",
     "output_type": "stream",
     "text": [
      "[7.875, 18.125, 3.25]\n"
     ]
    }
   ],
   "source": [
    "teste = ospy.nodeCoord(40)\n",
    "print(teste)"
   ]
  },
  {
   "cell_type": "code",
   "execution_count": 152,
   "metadata": {
    "slideshow": {
     "slide_type": "skip"
    }
   },
   "outputs": [],
   "source": [
    "b = .15 # base do elemento estrutural\n",
    "h = .4 # altura do elemento estrutural\n",
    "fck = 30 #FCK\n",
    "ni = 0.2 # coeficiente de Poisson"
   ]
  },
  {
   "cell_type": "code",
   "execution_count": 153,
   "metadata": {
    "scrolled": true,
    "slideshow": {
     "slide_type": "skip"
    }
   },
   "outputs": [],
   "source": [
    "\n",
    "A = b*h # area do elemento\n",
    "E = .85*5600*fck**.5 # modulo de elasticidade - Young modulos\n",
    "G = E/(2*(1+ni)) # modulo de cisalhamento - shear modulus\n",
    "J = ((b*h)/12) * (b**2 + h**2) # torsional moment of inertia of cross section\n",
    "Iy = (b*h**3)/12 # second moment of area about the local z-axis\n",
    "Iz = (h*b**3)/12 # second moment of area about the local y-axis"
   ]
  },
  {
   "cell_type": "code",
   "execution_count": 154,
   "metadata": {},
   "outputs": [],
   "source": [
    "ospy.element('elasticBeamColumn', 1 , int(matXI[0][0][0]), int(matXF[0][0][0]), A, E, G, J, Iy, Iz, 1,  '-mass', 0.0,  '-cMass')"
   ]
  },
  {
   "cell_type": "code",
   "execution_count": 155,
   "metadata": {},
   "outputs": [
    {
     "data": {
      "text/plain": [
       "numpy.int64"
      ]
     },
     "execution_count": 155,
     "metadata": {},
     "output_type": "execute_result"
    }
   ],
   "source": [
    "type(matXI[0][0][0])\n"
   ]
  },
  {
   "cell_type": "code",
   "execution_count": 156,
   "metadata": {},
   "outputs": [
    {
     "data": {
      "text/plain": [
       "32"
      ]
     },
     "execution_count": 156,
     "metadata": {},
     "output_type": "execute_result"
    }
   ],
   "source": [
    "matXF.size"
   ]
  },
  {
   "cell_type": "code",
   "execution_count": 157,
   "metadata": {},
   "outputs": [
    {
     "data": {
      "text/plain": [
       "[12, 13]"
      ]
     },
     "execution_count": 157,
     "metadata": {},
     "output_type": "execute_result"
    }
   ],
   "source": [
    "[matXI[0][0][0],matXF[0][0][0]]"
   ]
  },
  {
   "cell_type": "code",
   "execution_count": 158,
   "metadata": {},
   "outputs": [
    {
     "data": {
      "text/plain": [
       "int"
      ]
     },
     "execution_count": 158,
     "metadata": {},
     "output_type": "execute_result"
    }
   ],
   "source": [
    "type(1)"
   ]
  },
  {
   "cell_type": "code",
   "execution_count": 159,
   "metadata": {},
   "outputs": [
    {
     "data": {
      "text/plain": [
       "int64"
      ]
     },
     "execution_count": 159,
     "metadata": {},
     "output_type": "execute_result"
    }
   ],
   "source": [
    "nb.int64"
   ]
  },
  {
   "cell_type": "code",
   "execution_count": 160,
   "metadata": {},
   "outputs": [
    {
     "data": {
      "text/plain": [
       "sys.float_info(max=1.7976931348623157e+308, max_exp=1024, max_10_exp=308, min=2.2250738585072014e-308, min_exp=-1021, min_10_exp=-307, dig=15, mant_dig=53, epsilon=2.220446049250313e-16, radix=2, rounds=1)"
      ]
     },
     "execution_count": 160,
     "metadata": {},
     "output_type": "execute_result"
    }
   ],
   "source": [
    "sys.float_info"
   ]
  },
  {
   "cell_type": "code",
   "execution_count": 161,
   "metadata": {},
   "outputs": [
    {
     "data": {
      "text/plain": [
       "sys.int_info(bits_per_digit=30, sizeof_digit=4)"
      ]
     },
     "execution_count": 161,
     "metadata": {},
     "output_type": "execute_result"
    }
   ],
   "source": [
    "sys.int_info"
   ]
  }
 ],
 "metadata": {
  "kernelspec": {
   "display_name": "Python 3",
   "language": "python",
   "name": "python3"
  },
  "language_info": {
   "codemirror_mode": {
    "name": "ipython",
    "version": 3
   },
   "file_extension": ".py",
   "mimetype": "text/x-python",
   "name": "python",
   "nbconvert_exporter": "python",
   "pygments_lexer": "ipython3",
   "version": "3.6.7"
  }
 },
 "nbformat": 4,
 "nbformat_minor": 2
}
