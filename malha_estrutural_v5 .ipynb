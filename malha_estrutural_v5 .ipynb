{
 "cells": [
  {
   "cell_type": "code",
   "execution_count": 1,
   "metadata": {},
   "outputs": [],
   "source": [
    "#import tensorflow as tf\n",
    "import numpy as np\n",
    "#import pandas as pd\n",
    "#import matplotlib.pyplot as plt\n",
    "import numba as nb\n",
    "import sys\n",
    "import openseespy.opensees as osp"
   ]
  },
  {
   "cell_type": "code",
   "execution_count": 2,
   "metadata": {},
   "outputs": [],
   "source": [
    "@nb.vectorize([\"float64(int64,int64,int64,float64)\"], target='parallel')\n",
    "def coordX(M, vx, vy, dx):\n",
    "    if M <  ( (vx+1) * (vy+1) ):\n",
    "        return  (M % (vx+1) ) * (dx)\n",
    "    else:\n",
    "        return  ( ( M - (vx+1) * (vy+1) ) % (vx*2 +1) ) * (dx/2) "
   ]
  },
  {
   "cell_type": "code",
   "execution_count": 3,
   "metadata": {},
   "outputs": [],
   "source": [
    "@nb.vectorize([\"float64(int64,int64,int64,float64)\"], target='parallel')\n",
    "def coordY(M, vx, vy, dy):\n",
    "    if M <  ( (vx+1)* (vy+1) ):\n",
    "        return  ((M % ( (vx+1) * (vy+1) )// (vx+1) ) ) * (dy)\n",
    "    else:\n",
    "        return  ( ((M - (vx+1) * (vy+1) ) % ( (vx*2 +1) * (vy*2 +1) ))// (vx*2 +1) ) * (dy/2)"
   ]
  },
  {
   "cell_type": "code",
   "execution_count": 4,
   "metadata": {},
   "outputs": [],
   "source": [
    "@nb.vectorize([\"float64(int64,int64,int64,float64)\"], target='parallel')\n",
    "def coordZ(M, vx, vy, dz):\n",
    "    if M < ( (vx+1)* (vy+1) ):\n",
    "        return  0.0\n",
    "    else:\n",
    "        return  (((M - ( (vx+1)* (vy+1) ) ) // ( (vx*2 +1)*(vy*2 +1))) + 1) * (dz)"
   ]
  },
  {
   "cell_type": "code",
   "execution_count": 5,
   "metadata": {},
   "outputs": [],
   "source": [
    "@nb.jit([\"void(int32,float64,float64,float64)\"], parallel = True)\n",
    "def ospyNode(M, cx, cy, cz):\n",
    "    for i in nb.prange(M.shape[0]):\n",
    "        osp.node(int(M[i]),cx[i],cy[i],cz[i])\n",
    "        if cz[i] == 0.0:\n",
    "            osp.fix(int(M[i]), 1, 1, 1, 1, 1, 1)"
   ]
  },
  {
   "cell_type": "code",
   "execution_count": 6,
   "metadata": {},
   "outputs": [],
   "source": [
    "@nb.jit([\"void(int64,float64,int64,float64,int64,float64)\"])\n",
    "def estruct(vx, dx, vy, dy, vz, dz):\n",
    "    # numero total de pontos\n",
    "    Npts = (vx*2 +1) * (vy*2 +1) * (vz) + ( (vx+1) * (vy+1) )\n",
    "    # Matriz dos indices\n",
    "    mat = np.arange(0,Npts, 1, dtype=np.int64 )\n",
    "    # corrdenadas dos pontos\n",
    "    cX = coordX(mat, vx, vy, dx)\n",
    "    cY = coordY(mat, vx, vy, dy)\n",
    "    cZ = coordZ(mat, vx, vy, dz)\n",
    "    #print( '\\ncoord X\\n', cX , '\\nCoord Y\\n', cY, '\\nCoord Z\\n', cZ)\n",
    "    # matriz dos andares superiores\n",
    "    matA = mat[(vX+1)*(vY+1)::].reshape(vZ, vY*2 +1, vX*2 +1)\n",
    "    # matriz dos indices iniciais das vigas em x\n",
    "    matXI = matA[::,::2,:-1:]\n",
    "    # matriz dos indides finais das vigas em x\n",
    "    matXF = matA[::,::2,1::]\n",
    "    # matriz dos indices inicias das vigas em Y\n",
    "    matYI = matA[::,:-1:,::2]\n",
    "    # matriz dos indices finais das vigas em Y\n",
    "    matYF = matA[::,1::,::2]\n",
    "    # matriz pontos da fundação\n",
    "    matB = mat[: (vx+1) * (vy+1)]\n",
    "    # matriz final dos pilares\n",
    "    matPF = matA[::,::2,::2]\n",
    "    # matriz inicial dos pilares\n",
    "    matPI = np.append(matB,matPF[:-1:,::,::]).reshape(vZ,(vY+1),(vX+1))\n",
    "    #print(\"matriz andades\\n\", matA)\n",
    "    # Matrizes de superficie \n",
    "    matBL = matA[::, :-1:, :-1:]\n",
    "    #print(\"Inferior esquerdo\\n\",matBL)\n",
    "    matBR = matA[::, :-1:, 1::]\n",
    "    #print(\"Inferior direito\\n\",matBR)\n",
    "    matTL= matA[::, 1::, :-1:]\n",
    "    #print(\"Superior esquerdo\\n\",matTL)\n",
    "    matTR = matA[::, 1::, 1::]\n",
    "    #print(\"Superior direito\\n\",matTR)\n",
    "    \n",
    "    # - Modelo Openseespy\n",
    "    osp.wipe()\n",
    "    # init model\n",
    "    # degrees of freedom by node\n",
    "    ndf=6\n",
    "    osp.model('basic', '-ndm', 3, '-ndf', ndf)\n",
    "    ospyNode(mat, cX, cY, cZ)    "
   ]
  },
  {
   "cell_type": "code",
   "execution_count": 7,
   "metadata": {},
   "outputs": [],
   "source": [
    "# entradas\n",
    "# numero de vaos em x\n",
    "vX = 2\n",
    "# distancia dos vaos em x\n",
    "dX = 5.25\n",
    "# número de vãos em y\n",
    "vY = 3\n",
    "# distancia dos vaos em y\n",
    "dY = 7.25\n",
    "# numero pavimentos\n",
    "vZ = 2\n",
    " # distancia piso a piso\n",
    "dZ = 3.25"
   ]
  },
  {
   "cell_type": "code",
   "execution_count": 8,
   "metadata": {},
   "outputs": [
    {
     "name": "stdout",
     "output_type": "stream",
     "text": [
      "1.34 ms ± 139 µs per loop (mean ± std. dev. of 7 runs, 1 loop each)\n"
     ]
    }
   ],
   "source": [
    "%%timeit\n",
    "estruct(vX, dX, vY, dY, vZ, dZ)"
   ]
  },
  {
   "cell_type": "code",
   "execution_count": 9,
   "metadata": {},
   "outputs": [
    {
     "name": "stdout",
     "output_type": "stream",
     "text": [
      "[7.875, 18.125, 3.25]\n"
     ]
    }
   ],
   "source": [
    "teste = osp.nodeCoord(40)\n",
    "print(teste)"
   ]
  },
  {
   "cell_type": "code",
   "execution_count": null,
   "metadata": {},
   "outputs": [],
   "source": []
  }
 ],
 "metadata": {
  "kernelspec": {
   "display_name": "Python 3",
   "language": "python",
   "name": "python3"
  },
  "language_info": {
   "codemirror_mode": {
    "name": "ipython",
    "version": 3
   },
   "file_extension": ".py",
   "mimetype": "text/x-python",
   "name": "python",
   "nbconvert_exporter": "python",
   "pygments_lexer": "ipython3",
   "version": "3.6.7"
  }
 },
 "nbformat": 4,
 "nbformat_minor": 2
}
