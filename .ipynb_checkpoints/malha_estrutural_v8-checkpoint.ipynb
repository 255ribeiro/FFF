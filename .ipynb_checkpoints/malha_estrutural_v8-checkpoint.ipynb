{
 "cells": [
  {
   "cell_type": "code",
   "execution_count": 1,
   "metadata": {},
   "outputs": [],
   "source": [
    "import numpy as np\n",
    "#import matplotlib.pyplot as plt\n",
    "import numba as nb\n",
    "import sys\n",
    "import openseespy.opensees as ospy"
   ]
  },
  {
   "cell_type": "code",
   "execution_count": 2,
   "metadata": {},
   "outputs": [
    {
     "data": {
      "text/plain": [
       "'3.0.3'"
      ]
     },
     "execution_count": 2,
     "metadata": {},
     "output_type": "execute_result"
    }
   ],
   "source": [
    "# versão do openseespy\n",
    "ospy.version()"
   ]
  },
  {
   "cell_type": "code",
   "execution_count": 3,
   "metadata": {},
   "outputs": [],
   "source": [
    "# target do numba\n",
    "\n",
    "#targNumba = 'cuda'\n",
    "targNumba = 'parallel'"
   ]
  },
  {
   "cell_type": "code",
   "execution_count": 4,
   "metadata": {},
   "outputs": [],
   "source": [
    "\n",
    "@nb.vectorize([\"float64(int64,int64,int64,float64)\"], target= targNumba)\n",
    "def coordX(M, vx, vy, dx):\n",
    "    if M <  ( (vx+1) * (vy+1) ):\n",
    "        return  (M % (vx+1) ) * (dx)\n",
    "    else:\n",
    "        return  ( ( M - (vx+1) * (vy+1) ) % (vx*2 +1) ) * (dx/2) "
   ]
  },
  {
   "cell_type": "code",
   "execution_count": 5,
   "metadata": {},
   "outputs": [],
   "source": [
    "\n",
    "@nb.vectorize([\"float64(int64,int64,int64,float64)\"], target= targNumba)\n",
    "def coordY(M, vx, vy, dy):\n",
    "    if M <  ( (vx+1)* (vy+1) ):\n",
    "        return  ((M % ( (vx+1) * (vy+1) )// (vx+1) ) ) * (dy)\n",
    "    else:\n",
    "        return  ( ((M - (vx+1) * (vy+1) ) % ( (vx*2 +1) * (vy*2 +1) ))// (vx*2 +1) ) * (dy/2)\n",
    "\n"
   ]
  },
  {
   "cell_type": "code",
   "execution_count": 6,
   "metadata": {},
   "outputs": [],
   "source": [
    "\n",
    "@nb.vectorize([\"float64(int64,int64,int64,float64)\"], target= targNumba)\n",
    "def coordZ(M, vx, vy, dz):\n",
    "    if M < ( (vx+1)* (vy+1) ):\n",
    "        return  0.0\n",
    "    else:\n",
    "        return  (((M - ( (vx+1)* (vy+1) ) ) // ( (vx*2 +1)*(vy*2 +1))) + 1) * (dz)\n",
    "\n"
   ]
  },
  {
   "cell_type": "code",
   "execution_count": 14,
   "metadata": {},
   "outputs": [],
   "source": [
    "\n",
    "@nb.jit([\"void(int64,float64,float64,float64)\"], parallel = True)\n",
    "def ospyNode(M, cx, cy, cz):\n",
    "    for i in nb.prange(M.size):\n",
    "        ospy.node(int(M[i]),cx[i],cy[i],cz[i])\n",
    "        if cz[i] == 0.0:\n",
    "            ospy.fix(int(M[i]), 1, 1, 1, 1, 1, 1)\n"
   ]
  },
  {
   "cell_type": "code",
   "execution_count": 30,
   "metadata": {},
   "outputs": [],
   "source": [
    "\n",
    "@nb.jit([\"void(float64, float64, float64, float64, float64, float64, int64, int64, int64, int64)\"], parallel = True)\n",
    "def createElement(A, E, G, J, Iy, Iz,  gTTag,  matINd, matFNd, matTags ):\n",
    "    for i in nb.prange( matFNd.size):\n",
    "        ospy.element('elasticBeamColumn', int(matTags[i]) , int(matINd[i]), int(matFNd[i]), A, E, G, J, Iy, Iz, gTTag ,  '-mass', 0.0,  '-cMass')\n",
    "    "
   ]
  },
  {
   "cell_type": "markdown",
   "metadata": {},
   "source": [
    "### Função vectorize não fnciona\n",
    "\n",
    "@nb.vectorize([\"void(float64, float64, float64, float64, float64, float64, int64, int64, int64, int64)\"],  target= 'parallel')\n",
    "def createElement(A, E, G, J, Iy, Iz,  gTTag,  matINd, matFNd, matTags ):\n",
    "        ospy.element('elasticBeamColumn', int(matTags) , int(matINd), int(matFNd), A, E, G, J, Iy, Iz, gTTag ,  '-mass', 0.0,  '-cMass')"
   ]
  },
  {
   "cell_type": "code",
   "execution_count": 31,
   "metadata": {},
   "outputs": [],
   "source": [
    "\n",
    "@nb.jit([\"void(float64,float64,float64, float64, int64, int64, int64, int64)\"], parallel = False)\n",
    "def frameSet(h, b, fck, ni,  gTTag,  matINd, matFNd, matTags):\n",
    "    A = b*h # area do elemento\n",
    "    E = .85*5600*(fck**.5)*(10**3) # modulo de elasticidade - Young modulos (transformando de Mpa para KN/m2 -> 10**3)\n",
    "    G = E/(2*(1+ni)) # modulo de cisalhamento - shear modulus\n",
    "    J = ((b*h)/12) * (b**2 + h**2) # torsional moment of inertia of cross section\n",
    "    Iy = (b*h**3)/12 # second moment of area about the local z-axis\n",
    "    Iz = (h*b**3)/12 # second moment of area about the local y-axis\n",
    "    createElement(A, E, G, J, Iy, Iz, gTTag,  matINd, matFNd, matTags )"
   ]
  },
  {
   "cell_type": "code",
   "execution_count": 32,
   "metadata": {},
   "outputs": [],
   "source": [
    "\n",
    "@nb.jit([\"void()\"])\n",
    "def resetModel():\n",
    "    # - Modelo Openseespy\n",
    "    ospy.wipe()\n",
    "    # init model\n",
    "    # degrees of freedom by node\n",
    "    ndf=6\n",
    "    ospy.model('basic', '-ndm', 3, '-ndf', ndf)\n",
    "    # transformações geometricas\n",
    "    \n",
    "    ospy.geomTransf('Linear', 1, 0.0, 0.0, 1.0, '-jntOffset', 0.0, 0.0, 0.0, 0.0, 0.0, 0.0)\n",
    "    ospy.geomTransf('Linear', 2, 1.0, 0.0, 0.0, '-jntOffset', 0.0, 0.0, 0.0, 0.0, 0.0, 0.0)\n",
    " \n",
    "    \n",
    "\n"
   ]
  },
  {
   "cell_type": "code",
   "execution_count": 33,
   "metadata": {},
   "outputs": [],
   "source": [
    "\n",
    "@nb.jit([\"void(int64,float64,int64,float64,int64,float64, float64, float64, float64, float64, float64, float64, float64, float64)\"])\n",
    "def estruct(vx, dx, vy, dy, vz, dz, pb, pa, pfck, vxb, vxa, vyb, vya, vfck):\n",
    "    # numero total de pontos\n",
    "    Npts = (vx*2 +1) * (vy*2 +1) * (vz) + ( (vx+1) * (vy+1) )\n",
    "    # Matriz dos indices\n",
    "    mat = np.arange(0,Npts, 1, dtype= np.int64 )\n",
    "    # corrdenadas dos pontos\n",
    "    cX = coordX(mat, vx, vy, dx)\n",
    "    cY = coordY(mat, vx, vy, dy)\n",
    "    cZ = coordZ(mat, vx, vy, dz)\n",
    "    # matriz dos andares superiores\n",
    "    matA = mat[(vX+1)*(vY+1)::].reshape(vZ, vY*2 +1, vX*2 +1)\n",
    "    # matriz dos indices iniciais das vigas em x\n",
    "    matXI = matA[::,::2,:-1:]\n",
    "    # matriz dos indides finais das vigas em x\n",
    "    matXF = matA[::,::2,1::]\n",
    "    # matriz dos indices inicias das vigas em Y\n",
    "    matYI = matA[::,:-1:,::2]\n",
    "    # matriz dos indices finais das vigas em Y\n",
    "    matYF = matA[::,1::,::2]\n",
    "    # matriz pontos da fundação\n",
    "    matB = mat[: (vx+1) * (vy+1)]\n",
    "    # matriz final dos pilares\n",
    "    matPF = matA[::,::2,::2]\n",
    "    # matriz inicial dos pilares\n",
    "    matPI = np.append(matB,matPF[:-1:,::,::]).reshape(vZ,(vY+1),(vX+1))\n",
    "    # Matrizes de superficie \n",
    "    matBL = matA[::, :-1:, :-1:]\n",
    "    #print(\"Inferior esquerdo\\n\",matBL)\n",
    "    matBR = matA[::, :-1:, 1::]\n",
    "    #print(\"Inferior direito\\n\",matBR)\n",
    "    matTL= matA[::, 1::, :-1:]\n",
    "    #print(\"Superior esquerdo\\n\",matTL)\n",
    "    matTR = matA[::, 1::, 1::]\n",
    "    #print(\"Superior direito\\n\",matTR)\n",
    "    \n",
    "    # reset model\n",
    "    resetModel()\n",
    "    # nodes\n",
    "    ospyNode(mat, cX, cY, cZ)\n",
    "\n",
    "    # pilares\n",
    "    startTag = 0\n",
    "    endTag = matPF.size\n",
    "    matTagP = np.arange(startTag, endTag, 1, dtype= np.int64 )\n",
    "    frameSet(pa, pb, pfck, .2, 2, matPI.flatten(), matPF.flatten(), matTagP)\n",
    "\n",
    "    # vigas x\n",
    "    startTag, endTag = endTag, endTag + matXF.size\n",
    "    matTagX  = np.arange(startTag, endTag, 1, dtype= np.int64 )\n",
    "    frameSet(pa, pb, pfck, .2, 1, matXI.flatten() , matXF.flatten(), matTagX)\n",
    "    \n",
    "    #vigas y\n",
    "    startTag, endTag = endTag, endTag + matYF.size\n",
    "    matTagY  = np.arange(startTag, endTag, 1, dtype= np.int64 )\n",
    "    frameSet(pa, pb, pfck, .2, 1, matYI.flatten(), matYF.flatten(), matTagY)"
   ]
  },
  {
   "cell_type": "code",
   "execution_count": 34,
   "metadata": {},
   "outputs": [],
   "source": [
    "\n",
    "\n",
    "# entradas\n",
    "# numero de vaos em x\n",
    "vX = 2\n",
    "# distancia dos vaos em x\n",
    "dX = 5.25\n",
    "# número de vãos em y\n",
    "vY = 3\n",
    "# distancia dos vaos em y\n",
    "dY = 7.25\n",
    "# numero pavimentos\n",
    "vZ = 2\n",
    "# distancia piso a piso\n",
    "dZ = 3.25\n",
    "\n",
    "## pilares\n",
    "pb = .4\n",
    "pa = .5\n",
    "pfck = 30\n",
    "## vigas\n",
    "vxb = .12\n",
    "vxa = .4\n",
    "vyb = .15\n",
    "vya = .5\n",
    "vfck = 30\n",
    "## lajes\n"
   ]
  },
  {
   "cell_type": "code",
   "execution_count": 35,
   "metadata": {},
   "outputs": [],
   "source": [
    "\n",
    "\n",
    "\n",
    "estruct(vX, dX, vY, dY, vZ, dZ, pb, pa, pfck, vxb, vxa, vyb, vya, vfck)\n"
   ]
  },
  {
   "cell_type": "code",
   "execution_count": 36,
   "metadata": {},
   "outputs": [
    {
     "name": "stdout",
     "output_type": "stream",
     "text": [
      "[7.875, 18.125, 3.25]\n"
     ]
    }
   ],
   "source": [
    "\n",
    "\n",
    "teste = ospy.nodeCoord(40)\n",
    "print(teste)\n",
    "\n"
   ]
  },
  {
   "cell_type": "code",
   "execution_count": null,
   "metadata": {},
   "outputs": [],
   "source": []
  }
 ],
 "metadata": {
  "file_extension": ".py",
  "kernelspec": {
   "display_name": "Python 3",
   "language": "python",
   "name": "python3"
  },
  "language_info": {
   "codemirror_mode": {
    "name": "ipython",
    "version": 3
   },
   "file_extension": ".py",
   "mimetype": "text/x-python",
   "name": "python",
   "nbconvert_exporter": "python",
   "pygments_lexer": "ipython3",
   "version": "3.6.7"
  },
  "mimetype": "text/x-python",
  "name": "python",
  "npconvert_exporter": "python",
  "pygments_lexer": "ipython3",
  "version": 3
 },
 "nbformat": 4,
 "nbformat_minor": 2
}
